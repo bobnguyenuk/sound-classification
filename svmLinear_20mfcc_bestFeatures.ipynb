{
 "cells": [
  {
   "cell_type": "code",
   "execution_count": 1,
   "metadata": {},
   "outputs": [
    {
     "data": {
      "text/plain": [
       "(200, 8620)"
      ]
     },
     "execution_count": 1,
     "metadata": {},
     "output_type": "execute_result"
    }
   ],
   "source": [
    "import numpy as np\n",
    "features=np.load(\"20features.npy\")\n",
    "features.shape"
   ]
  },
  {
   "cell_type": "code",
   "execution_count": 2,
   "metadata": {},
   "outputs": [
    {
     "data": {
      "text/plain": [
       "array([0, 1])"
      ]
     },
     "execution_count": 2,
     "metadata": {},
     "output_type": "execute_result"
    }
   ],
   "source": [
    "labels=np.hstack((np.zeros((100,),dtype=int),np.ones((100,),dtype=int)))\n",
    "np.unique(labels)"
   ]
  },
  {
   "cell_type": "code",
   "execution_count": 3,
   "metadata": {},
   "outputs": [
    {
     "data": {
      "text/html": [
       "<div>\n",
       "<style scoped>\n",
       "    .dataframe tbody tr th:only-of-type {\n",
       "        vertical-align: middle;\n",
       "    }\n",
       "\n",
       "    .dataframe tbody tr th {\n",
       "        vertical-align: top;\n",
       "    }\n",
       "\n",
       "    .dataframe thead th {\n",
       "        text-align: right;\n",
       "    }\n",
       "</style>\n",
       "<table border=\"1\" class=\"dataframe\">\n",
       "  <thead>\n",
       "    <tr style=\"text-align: right;\">\n",
       "      <th></th>\n",
       "      <th>MFCC 01st</th>\n",
       "      <th>MFCC 02nd</th>\n",
       "      <th>MFCC 03rd</th>\n",
       "      <th>MFCC 04th</th>\n",
       "      <th>MFCC 05th</th>\n",
       "      <th>MFCC 06th</th>\n",
       "      <th>MFCC 07th</th>\n",
       "      <th>MFCC 08th</th>\n",
       "      <th>MFCC 09th</th>\n",
       "      <th>MFCC 10th</th>\n",
       "      <th>...</th>\n",
       "      <th>MFCC 12th</th>\n",
       "      <th>MFCC 13th</th>\n",
       "      <th>MFCC 14th</th>\n",
       "      <th>MFCC 15th</th>\n",
       "      <th>MFCC 16th</th>\n",
       "      <th>MFCC 17th</th>\n",
       "      <th>MFCC 18th</th>\n",
       "      <th>MFCC 19th</th>\n",
       "      <th>MFCC 20th</th>\n",
       "      <th>labels</th>\n",
       "    </tr>\n",
       "  </thead>\n",
       "  <tbody>\n",
       "    <tr>\n",
       "      <th>0</th>\n",
       "      <td>-719.062866</td>\n",
       "      <td>-707.583496</td>\n",
       "      <td>-633.472595</td>\n",
       "      <td>-519.299072</td>\n",
       "      <td>-440.028900</td>\n",
       "      <td>-417.755035</td>\n",
       "      <td>-418.441467</td>\n",
       "      <td>-409.892975</td>\n",
       "      <td>-377.025360</td>\n",
       "      <td>-349.318390</td>\n",
       "      <td>...</td>\n",
       "      <td>-360.215363</td>\n",
       "      <td>-424.559143</td>\n",
       "      <td>-495.244751</td>\n",
       "      <td>-555.213135</td>\n",
       "      <td>-603.899841</td>\n",
       "      <td>-644.993774</td>\n",
       "      <td>-668.989807</td>\n",
       "      <td>-688.994385</td>\n",
       "      <td>-709.829407</td>\n",
       "      <td>0</td>\n",
       "    </tr>\n",
       "    <tr>\n",
       "      <th>1</th>\n",
       "      <td>-746.140320</td>\n",
       "      <td>-742.428162</td>\n",
       "      <td>-742.304321</td>\n",
       "      <td>-746.918579</td>\n",
       "      <td>-744.613647</td>\n",
       "      <td>-498.149719</td>\n",
       "      <td>-381.052643</td>\n",
       "      <td>-332.644592</td>\n",
       "      <td>-334.006958</td>\n",
       "      <td>-387.857025</td>\n",
       "      <td>...</td>\n",
       "      <td>-479.386353</td>\n",
       "      <td>-515.735413</td>\n",
       "      <td>-562.370056</td>\n",
       "      <td>-607.714478</td>\n",
       "      <td>-651.594299</td>\n",
       "      <td>-674.291931</td>\n",
       "      <td>-691.078735</td>\n",
       "      <td>-701.285461</td>\n",
       "      <td>-708.947205</td>\n",
       "      <td>0</td>\n",
       "    </tr>\n",
       "    <tr>\n",
       "      <th>2</th>\n",
       "      <td>-702.527344</td>\n",
       "      <td>-705.717529</td>\n",
       "      <td>-708.727783</td>\n",
       "      <td>-711.868713</td>\n",
       "      <td>-709.698120</td>\n",
       "      <td>-518.834656</td>\n",
       "      <td>-266.183350</td>\n",
       "      <td>-150.312317</td>\n",
       "      <td>-95.043549</td>\n",
       "      <td>-99.228928</td>\n",
       "      <td>...</td>\n",
       "      <td>-192.161316</td>\n",
       "      <td>-171.135468</td>\n",
       "      <td>-183.937958</td>\n",
       "      <td>-273.578247</td>\n",
       "      <td>-399.974792</td>\n",
       "      <td>-400.204834</td>\n",
       "      <td>-234.682739</td>\n",
       "      <td>-138.878372</td>\n",
       "      <td>-112.082832</td>\n",
       "      <td>0</td>\n",
       "    </tr>\n",
       "    <tr>\n",
       "      <th>3</th>\n",
       "      <td>-619.012756</td>\n",
       "      <td>-619.695129</td>\n",
       "      <td>-619.368713</td>\n",
       "      <td>-555.803040</td>\n",
       "      <td>-336.223816</td>\n",
       "      <td>-201.740570</td>\n",
       "      <td>-148.235947</td>\n",
       "      <td>-161.838562</td>\n",
       "      <td>-199.892746</td>\n",
       "      <td>-216.353821</td>\n",
       "      <td>...</td>\n",
       "      <td>-242.832458</td>\n",
       "      <td>-238.937195</td>\n",
       "      <td>-246.901779</td>\n",
       "      <td>-280.371948</td>\n",
       "      <td>-332.892090</td>\n",
       "      <td>-397.484283</td>\n",
       "      <td>-426.858643</td>\n",
       "      <td>-439.663025</td>\n",
       "      <td>-474.095184</td>\n",
       "      <td>0</td>\n",
       "    </tr>\n",
       "    <tr>\n",
       "      <th>4</th>\n",
       "      <td>-242.206772</td>\n",
       "      <td>-201.749771</td>\n",
       "      <td>-193.979126</td>\n",
       "      <td>-219.345139</td>\n",
       "      <td>-243.740982</td>\n",
       "      <td>-245.470749</td>\n",
       "      <td>-245.910110</td>\n",
       "      <td>-267.652405</td>\n",
       "      <td>-310.442413</td>\n",
       "      <td>-376.471680</td>\n",
       "      <td>...</td>\n",
       "      <td>-508.116516</td>\n",
       "      <td>-558.660339</td>\n",
       "      <td>-610.861938</td>\n",
       "      <td>-643.409180</td>\n",
       "      <td>-660.644653</td>\n",
       "      <td>-671.300232</td>\n",
       "      <td>-677.038513</td>\n",
       "      <td>-678.079407</td>\n",
       "      <td>-682.020996</td>\n",
       "      <td>0</td>\n",
       "    </tr>\n",
       "  </tbody>\n",
       "</table>\n",
       "<p>5 rows × 21 columns</p>\n",
       "</div>"
      ],
      "text/plain": [
       "    MFCC 01st   MFCC 02nd   MFCC 03rd   MFCC 04th   MFCC 05th   MFCC 06th  \\\n",
       "0 -719.062866 -707.583496 -633.472595 -519.299072 -440.028900 -417.755035   \n",
       "1 -746.140320 -742.428162 -742.304321 -746.918579 -744.613647 -498.149719   \n",
       "2 -702.527344 -705.717529 -708.727783 -711.868713 -709.698120 -518.834656   \n",
       "3 -619.012756 -619.695129 -619.368713 -555.803040 -336.223816 -201.740570   \n",
       "4 -242.206772 -201.749771 -193.979126 -219.345139 -243.740982 -245.470749   \n",
       "\n",
       "    MFCC 07th   MFCC 08th   MFCC 09th   MFCC 10th  ...   MFCC 12th  \\\n",
       "0 -418.441467 -409.892975 -377.025360 -349.318390  ... -360.215363   \n",
       "1 -381.052643 -332.644592 -334.006958 -387.857025  ... -479.386353   \n",
       "2 -266.183350 -150.312317  -95.043549  -99.228928  ... -192.161316   \n",
       "3 -148.235947 -161.838562 -199.892746 -216.353821  ... -242.832458   \n",
       "4 -245.910110 -267.652405 -310.442413 -376.471680  ... -508.116516   \n",
       "\n",
       "    MFCC 13th   MFCC 14th   MFCC 15th   MFCC 16th   MFCC 17th   MFCC 18th  \\\n",
       "0 -424.559143 -495.244751 -555.213135 -603.899841 -644.993774 -668.989807   \n",
       "1 -515.735413 -562.370056 -607.714478 -651.594299 -674.291931 -691.078735   \n",
       "2 -171.135468 -183.937958 -273.578247 -399.974792 -400.204834 -234.682739   \n",
       "3 -238.937195 -246.901779 -280.371948 -332.892090 -397.484283 -426.858643   \n",
       "4 -558.660339 -610.861938 -643.409180 -660.644653 -671.300232 -677.038513   \n",
       "\n",
       "    MFCC 19th   MFCC 20th  labels  \n",
       "0 -688.994385 -709.829407       0  \n",
       "1 -701.285461 -708.947205       0  \n",
       "2 -138.878372 -112.082832       0  \n",
       "3 -439.663025 -474.095184       0  \n",
       "4 -678.079407 -682.020996       0  \n",
       "\n",
       "[5 rows x 21 columns]"
      ]
     },
     "execution_count": 3,
     "metadata": {},
     "output_type": "execute_result"
    }
   ],
   "source": [
    "import pandas as pd\n",
    "data=pd.DataFrame({\n",
    "    'MFCC 01st':features[:,0],\n",
    "    'MFCC 02nd':features[:,1],\n",
    "    'MFCC 03rd':features[:,2],\n",
    "    'MFCC 04th':features[:,3],\n",
    "    'MFCC 05th':features[:,4],\n",
    "    'MFCC 06th':features[:,5],\n",
    "    'MFCC 07th':features[:,6],\n",
    "    'MFCC 08th':features[:,7],\n",
    "    'MFCC 09th':features[:,8],\n",
    "    'MFCC 10th':features[:,9],\n",
    "    'MFCC 11th':features[:,10],\n",
    "    'MFCC 12th':features[:,11],\n",
    "    'MFCC 13th':features[:,12],\n",
    "    'MFCC 14th':features[:,13],\n",
    "    'MFCC 15th':features[:,14],\n",
    "    'MFCC 16th':features[:,15],\n",
    "    'MFCC 17th':features[:,16],\n",
    "    'MFCC 18th':features[:,17],\n",
    "    'MFCC 19th':features[:,18],\n",
    "    'MFCC 20th':features[:,19],\n",
    "    'labels':labels\n",
    "})\n",
    "data.head()"
   ]
  },
  {
   "cell_type": "code",
   "execution_count": 4,
   "metadata": {},
   "outputs": [],
   "source": [
    "# Import train_test_split function\n",
    "from sklearn.model_selection import train_test_split\n",
    "\n",
    "X=data[['MFCC 01st', 'MFCC 02nd','MFCC 03rd', 'MFCC 04th','MFCC 05th','MFCC 06th','MFCC 07th','MFCC 08th','MFCC 09th','MFCC 10th',\n",
    "       'MFCC 11th','MFCC 12th','MFCC 13th','MFCC 14th','MFCC 15th','MFCC 16th','MFCC 17th','MFCC 18th','MFCC 19th','MFCC 20th']]  # Features\n",
    "y=data['labels']  # Labels\n",
    "\n",
    "# Split dataset into training set and test set\n",
    "X_train, X_test, y_train, y_test = train_test_split(X, y, test_size=0.3) # 70% training and 30% test"
   ]
  },
  {
   "cell_type": "code",
   "execution_count": 5,
   "metadata": {},
   "outputs": [],
   "source": [
    "from sklearn.svm import SVC\n",
    "from sklearn import metrics\n",
    "\n",
    "#Create the SVM model\n",
    "clf = SVC(C=100, kernel = 'linear')\n",
    "\n",
    "#Train the model using the training sets y_pred=clf.predict(X_test)\n",
    "clf.fit(X_train,y_train)\n",
    "\n",
    "y_pred=clf.predict(X_test)"
   ]
  },
  {
   "cell_type": "code",
   "execution_count": 6,
   "metadata": {},
   "outputs": [
    {
     "name": "stdout",
     "output_type": "stream",
     "text": [
      "Accuracy: 0.52\n"
     ]
    }
   ],
   "source": [
    "#Import scikit-learn metrics module for accuracy calculation\n",
    "from sklearn import metrics\n",
    "# Model Accuracy, how often is the classifier correct?\n",
    "print(\"Accuracy: {:.2f}\".format(metrics.accuracy_score(y_test, y_pred)))"
   ]
  },
  {
   "cell_type": "code",
   "execution_count": 7,
   "metadata": {},
   "outputs": [],
   "source": [
    "import matplotlib.pyplot as plt\n",
    "def f_importances(coef, names, top=-1):\n",
    "    imp = coef\n",
    "    imp, names = zip(*sorted(list(zip(imp, names))))\n",
    "\n",
    "    # Show all features\n",
    "    if top == -1:\n",
    "        top = len(names)\n",
    "\n",
    "    plt.barh(range(top), imp[::-1][0:top], align='center')\n",
    "    plt.yticks(range(top), names[::-1][0:top])\n",
    "    plt.show()"
   ]
  },
  {
   "cell_type": "code",
   "execution_count": 8,
   "metadata": {},
   "outputs": [
    {
     "data": {
      "image/png": "[encoded data removed]",
      "text/plain": [
       "<Figure size 432x288 with 1 Axes>"
      ]
     },
     "metadata": {
      "needs_background": "light"
     },
     "output_type": "display_data"
    }
   ],
   "source": [
    "feature_names = ['MFCC 01st', 'MFCC 02nd','MFCC 03rd', 'MFCC 04th','MFCC 05th','MFCC 06th','MFCC 07th','MFCC 08th','MFCC 09th','MFCC 10th',\n",
    "       'MFCC 11th','MFCC 12th','MFCC 13th','MFCC 14th','MFCC 15th','MFCC 16th','MFCC 17th','MFCC 18th','MFCC 19th','MFCC 20th']\n",
    "\n",
    "f_importances(abs(clf.coef_[0]), feature_names, top=20)"
   ]
  },
  {
   "cell_type": "code",
   "execution_count": 10,
   "metadata": {},
   "outputs": [
    {
     "name": "stdout",
     "output_type": "stream",
     "text": [
      "Accuracy: 0.58\n"
     ]
    }
   ],
   "source": [
    "from sklearn.model_selection import train_test_split\n",
    "\n",
    "#Remove the lowest 5 labels from MFCC 10th to 15th\n",
    "X=data[['MFCC 01st', 'MFCC 02nd', 'MFCC 03rd', 'MFCC 04th','MFCC 05th','MFCC 07th','MFCC 08th','MFCC 09th', \n",
    "        'MFCC 12th', 'MFCC 13th', 'MFCC 14th', 'MFCC 15th','MFCC 16th','MFCC 17th','MFCC 20th']]  # Features\n",
    "y=data['labels']  # Labels\n",
    "\n",
    "# Split dataset into training set and test set\n",
    "X_train, X_test, y_train, y_test = train_test_split(X, y, test_size=0.3) # 70% training and 30% test\n",
    "\n",
    "clf = SVC(C=100, kernel = 'linear')\n",
    "\n",
    "#Train the model using the training sets y_pred=clf.predict(X_test)\n",
    "clf.fit(X_train,y_train)\n",
    "\n",
    "y_pred=clf.predict(X_test)\n",
    "#Import scikit-learn metrics module for accuracy calculation\n",
    "from sklearn import metrics\n",
    "# Model Accuracy, how often is the classifier correct?\n",
    "print(\"Accuracy: {:.2f}\".format(metrics.accuracy_score(y_test, y_pred)))"
   ]
  },
  {
   "cell_type": "code",
   "execution_count": null,
   "metadata": {},
   "outputs": [],
   "source": []
  }
 ],
 "metadata": {
  "kernelspec": {
   "display_name": "Python 3",
   "language": "python",
   "name": "python3"
  },
  "language_info": {
   "codemirror_mode": {
    "name": "ipython",
    "version": 3
   },
   "file_extension": ".py",
   "mimetype": "text/x-python",
   "name": "python",
   "nbconvert_exporter": "python",
   "pygments_lexer": "ipython3",
   "version": "3.8.3"
  }
 },
 "nbformat": 4,
 "nbformat_minor": 4
}

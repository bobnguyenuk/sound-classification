{
 "cells": [
  {
   "cell_type": "code",
   "execution_count": 1,
   "metadata": {},
   "outputs": [],
   "source": [
    "import os\n",
    "import numpy as np\n",
    "import librosa.display"
   ]
  },
  {
   "cell_type": "code",
   "execution_count": 6,
   "metadata": {},
   "outputs": [
    {
     "data": {
      "text/plain": [
       "(1, 12930)"
      ]
     },
     "execution_count": 6,
     "metadata": {},
     "output_type": "execute_result"
    }
   ],
   "source": [
    "n_row = 30\n",
    "n_col = 431\n",
    "features = np.zeros([1, n_row*n_col])\n",
    "features.shape"
   ]
  },
  {
   "cell_type": "code",
   "execution_count": 7,
   "metadata": {},
   "outputs": [
    {
     "name": "stdout",
     "output_type": "stream",
     "text": [
      "---------------- Filename and its feature size: c001.wav (30, 431)\n",
      "---------------- Filename and its feature size: c002.wav (30, 431)\n",
      "---------------- Filename and its feature size: c003.wav (30, 432)\n",
      "Shorten feature size to: (30, 431)\n",
      "---------------- Filename and its feature size: c004.wav (30, 431)\n",
      "---------------- Filename and its feature size: c005.wav (30, 431)\n",
      "---------------- Filename and its feature size: c006.wav (30, 433)\n",
      "Shorten feature size to: (30, 431)\n",
      "---------------- Filename and its feature size: c007.wav (30, 431)\n",
      "---------------- Filename and its feature size: c008.wav (30, 431)\n",
      "---------------- Filename and its feature size: c009.wav (30, 431)\n",
      "---------------- Filename and its feature size: c010.wav (30, 431)\n",
      "---------------- Filename and its feature size: c011.wav (30, 431)\n",
      "---------------- Filename and its feature size: c012.wav (30, 432)\n",
      "Shorten feature size to: (30, 431)\n",
      "---------------- Filename and its feature size: c013.wav (30, 431)\n",
      "---------------- Filename and its feature size: c014.wav (30, 431)\n",
      "---------------- Filename and its feature size: c015.wav (30, 431)\n",
      "---------------- Filename and its feature size: c016.wav (30, 431)\n",
      "---------------- Filename and its feature size: c017.wav (30, 432)\n",
      "Shorten feature size to: (30, 431)\n",
      "---------------- Filename and its feature size: c018.wav (30, 432)\n",
      "Shorten feature size to: (30, 431)\n",
      "---------------- Filename and its feature size: c019.wav (30, 433)\n",
      "Shorten feature size to: (30, 431)\n",
      "---------------- Filename and its feature size: c020.wav (30, 431)\n",
      "---------------- Filename and its feature size: c021.wav (30, 431)\n",
      "---------------- Filename and its feature size: c022.wav (30, 432)\n",
      "Shorten feature size to: (30, 431)\n",
      "---------------- Filename and its feature size: c023.wav (30, 431)\n",
      "---------------- Filename and its feature size: c024.wav (30, 431)\n",
      "---------------- Filename and its feature size: c025.wav (30, 431)\n",
      "---------------- Filename and its feature size: c026.wav (30, 431)\n",
      "---------------- Filename and its feature size: c027.wav (30, 431)\n",
      "---------------- Filename and its feature size: c028.wav (30, 431)\n",
      "---------------- Filename and its feature size: c029.wav (30, 431)\n",
      "---------------- Filename and its feature size: c030.wav (30, 431)\n",
      "---------------- Filename and its feature size: c031.wav (30, 431)\n",
      "---------------- Filename and its feature size: c032.wav (30, 431)\n",
      "---------------- Filename and its feature size: c033.wav (30, 431)\n",
      "---------------- Filename and its feature size: c034.wav (30, 431)\n",
      "---------------- Filename and its feature size: c035.wav (30, 431)\n",
      "---------------- Filename and its feature size: c036.wav (30, 431)\n",
      "---------------- Filename and its feature size: c037.wav (30, 432)\n",
      "Shorten feature size to: (30, 431)\n",
      "---------------- Filename and its feature size: c038.wav (30, 431)\n",
      "---------------- Filename and its feature size: c039.wav (30, 431)\n",
      "---------------- Filename and its feature size: c040.wav (30, 431)\n",
      "---------------- Filename and its feature size: c041.wav (30, 431)\n",
      "---------------- Filename and its feature size: c042.wav (30, 431)\n",
      "---------------- Filename and its feature size: c043.wav (30, 431)\n",
      "---------------- Filename and its feature size: c044.wav (30, 431)\n",
      "---------------- Filename and its feature size: c045.wav (30, 431)\n",
      "---------------- Filename and its feature size: c046.wav (30, 431)\n",
      "---------------- Filename and its feature size: c047.wav (30, 431)\n",
      "---------------- Filename and its feature size: c048.wav (30, 431)\n",
      "---------------- Filename and its feature size: c049.wav (30, 432)\n",
      "Shorten feature size to: (30, 431)\n",
      "---------------- Filename and its feature size: c050.wav (30, 433)\n",
      "Shorten feature size to: (30, 431)\n",
      "---------------- Filename and its feature size: c051.wav (30, 431)\n",
      "---------------- Filename and its feature size: c052.wav (30, 431)\n",
      "---------------- Filename and its feature size: c053.wav (30, 431)\n",
      "---------------- Filename and its feature size: c054.wav (30, 431)\n",
      "---------------- Filename and its feature size: c055.wav (30, 431)\n",
      "---------------- Filename and its feature size: c056.wav (30, 431)\n",
      "---------------- Filename and its feature size: c057.wav (30, 431)\n",
      "---------------- Filename and its feature size: c058.wav (30, 431)\n",
      "---------------- Filename and its feature size: c059.wav (30, 432)\n",
      "Shorten feature size to: (30, 431)\n",
      "---------------- Filename and its feature size: c060.wav (30, 431)\n",
      "---------------- Filename and its feature size: c061.wav (30, 431)\n",
      "---------------- Filename and its feature size: c062.wav (30, 431)\n",
      "---------------- Filename and its feature size: c063.wav (30, 431)\n",
      "---------------- Filename and its feature size: c064.wav (30, 431)\n",
      "---------------- Filename and its feature size: c065.wav (30, 431)\n",
      "---------------- Filename and its feature size: c066.wav (30, 431)\n",
      "---------------- Filename and its feature size: c067.wav (30, 431)\n",
      "---------------- Filename and its feature size: c068.wav (30, 453)\n",
      "Shorten feature size to: (30, 431)\n",
      "---------------- Filename and its feature size: c069.wav (30, 431)\n",
      "---------------- Filename and its feature size: c070.wav (30, 431)\n",
      "---------------- Filename and its feature size: c071.wav (30, 431)\n",
      "---------------- Filename and its feature size: c072.wav (30, 431)\n",
      "---------------- Filename and its feature size: c073.wav (30, 430)\n",
      "Lengthen feature size to: (30, 431)\n",
      "---------------- Filename and its feature size: c074.wav (30, 431)\n",
      "---------------- Filename and its feature size: c075.wav (30, 431)\n",
      "---------------- Filename and its feature size: c076.wav (30, 431)\n",
      "---------------- Filename and its feature size: c077.wav (30, 431)\n",
      "---------------- Filename and its feature size: c078.wav (30, 430)\n",
      "Lengthen feature size to: (30, 431)\n",
      "---------------- Filename and its feature size: c079.wav (30, 453)\n",
      "Shorten feature size to: (30, 431)\n",
      "---------------- Filename and its feature size: c080.wav (30, 433)\n",
      "Shorten feature size to: (30, 431)\n",
      "---------------- Filename and its feature size: c081.wav (30, 453)\n",
      "Shorten feature size to: (30, 431)\n",
      "---------------- Filename and its feature size: c082.wav (30, 431)\n",
      "---------------- Filename and its feature size: c083.wav (30, 431)\n",
      "---------------- Filename and its feature size: c084.wav (30, 431)\n",
      "---------------- Filename and its feature size: c085.wav (30, 431)\n",
      "---------------- Filename and its feature size: c086.wav (30, 431)\n",
      "---------------- Filename and its feature size: c087.wav (30, 433)\n",
      "Shorten feature size to: (30, 431)\n",
      "---------------- Filename and its feature size: c088.wav (30, 431)\n",
      "---------------- Filename and its feature size: c089.wav (30, 431)\n",
      "---------------- Filename and its feature size: c090.wav (30, 431)\n",
      "---------------- Filename and its feature size: c091.wav (30, 429)\n",
      "Lengthen feature size to: (30, 431)\n",
      "---------------- Filename and its feature size: c092.wav (30, 433)\n",
      "Shorten feature size to: (30, 431)\n",
      "---------------- Filename and its feature size: c093.wav (30, 431)\n",
      "---------------- Filename and its feature size: c094.wav (30, 442)\n",
      "Shorten feature size to: (30, 431)\n",
      "---------------- Filename and its feature size: c095.wav (30, 432)\n",
      "Shorten feature size to: (30, 431)\n",
      "---------------- Filename and its feature size: c096.wav (30, 431)\n",
      "---------------- Filename and its feature size: c097.wav (30, 431)\n",
      "---------------- Filename and its feature size: c098.wav (30, 431)\n",
      "---------------- Filename and its feature size: c099.wav (30, 433)\n",
      "Shorten feature size to: (30, 431)\n",
      "---------------- Filename and its feature size: c100.wav (30, 430)\n",
      "Lengthen feature size to: (30, 431)\n",
      "---------------- Filename and its feature size: v001.wav (30, 431)\n",
      "---------------- Filename and its feature size: v002.wav (30, 431)\n",
      "---------------- Filename and its feature size: v003.wav (30, 431)\n",
      "---------------- Filename and its feature size: v004.wav (30, 430)\n",
      "Lengthen feature size to: (30, 431)\n",
      "---------------- Filename and its feature size: v005.wav (30, 431)\n",
      "---------------- Filename and its feature size: v006.wav (30, 431)\n",
      "---------------- Filename and its feature size: v007.wav (30, 431)\n",
      "---------------- Filename and its feature size: v008.wav (30, 431)\n",
      "---------------- Filename and its feature size: v009.wav (30, 431)\n",
      "---------------- Filename and its feature size: v010.wav (30, 431)\n"
     ]
    },
    {
     "name": "stdout",
     "output_type": "stream",
     "text": [
      "---------------- Filename and its feature size: v011.wav (30, 431)\n",
      "---------------- Filename and its feature size: v012.wav (30, 431)\n",
      "---------------- Filename and its feature size: v013.wav (30, 431)\n",
      "---------------- Filename and its feature size: v014.wav (30, 431)\n",
      "---------------- Filename and its feature size: v015.wav (30, 431)\n",
      "---------------- Filename and its feature size: v016.wav (30, 430)\n",
      "Lengthen feature size to: (30, 431)\n",
      "---------------- Filename and its feature size: v017.wav (30, 431)\n",
      "---------------- Filename and its feature size: v018.wav (30, 434)\n",
      "Shorten feature size to: (30, 431)\n",
      "---------------- Filename and its feature size: v019.wav (30, 432)\n",
      "Shorten feature size to: (30, 431)\n",
      "---------------- Filename and its feature size: v020.wav (30, 431)\n",
      "---------------- Filename and its feature size: v021.wav (30, 432)\n",
      "Shorten feature size to: (30, 431)\n",
      "---------------- Filename and its feature size: v022.wav (30, 431)\n",
      "---------------- Filename and its feature size: v023.wav (30, 431)\n",
      "---------------- Filename and its feature size: v024.wav (30, 431)\n",
      "---------------- Filename and its feature size: v025.wav (30, 431)\n",
      "---------------- Filename and its feature size: v026.wav (30, 431)\n",
      "---------------- Filename and its feature size: v027.wav (30, 431)\n",
      "---------------- Filename and its feature size: v028.wav (30, 432)\n",
      "Shorten feature size to: (30, 431)\n",
      "---------------- Filename and its feature size: v029.wav (30, 432)\n",
      "Shorten feature size to: (30, 431)\n",
      "---------------- Filename and its feature size: v030.wav (30, 431)\n",
      "---------------- Filename and its feature size: v031.wav (30, 431)\n",
      "---------------- Filename and its feature size: v032.wav (30, 431)\n",
      "---------------- Filename and its feature size: v033.wav (30, 431)\n",
      "---------------- Filename and its feature size: v034.wav (30, 431)\n",
      "---------------- Filename and its feature size: v035.wav (30, 431)\n",
      "---------------- Filename and its feature size: v036.wav (30, 432)\n",
      "Shorten feature size to: (30, 431)\n",
      "---------------- Filename and its feature size: v037.wav (30, 431)\n",
      "---------------- Filename and its feature size: v038.wav (30, 431)\n",
      "---------------- Filename and its feature size: v039.wav (30, 431)\n",
      "---------------- Filename and its feature size: v040.wav (30, 432)\n",
      "Shorten feature size to: (30, 431)\n",
      "---------------- Filename and its feature size: v041.wav (30, 432)\n",
      "Shorten feature size to: (30, 431)\n",
      "---------------- Filename and its feature size: v042.wav (30, 431)\n",
      "---------------- Filename and its feature size: v043.wav (30, 431)\n",
      "---------------- Filename and its feature size: v044.wav (30, 431)\n",
      "---------------- Filename and its feature size: v045.wav (30, 431)\n",
      "---------------- Filename and its feature size: v046.wav (30, 431)\n",
      "---------------- Filename and its feature size: v047.wav (30, 432)\n",
      "Shorten feature size to: (30, 431)\n",
      "---------------- Filename and its feature size: v048.wav (30, 431)\n",
      "---------------- Filename and its feature size: v049.wav (30, 435)\n",
      "Shorten feature size to: (30, 431)\n",
      "---------------- Filename and its feature size: v050.wav (30, 431)\n",
      "---------------- Filename and its feature size: v051.wav (30, 433)\n",
      "Shorten feature size to: (30, 431)\n",
      "---------------- Filename and its feature size: v052.wav (30, 431)\n",
      "---------------- Filename and its feature size: v053.wav (30, 430)\n",
      "Lengthen feature size to: (30, 431)\n",
      "---------------- Filename and its feature size: v054.wav (30, 433)\n",
      "Shorten feature size to: (30, 431)\n",
      "---------------- Filename and its feature size: v055.wav (30, 431)\n",
      "---------------- Filename and its feature size: v056.wav (30, 431)\n",
      "---------------- Filename and its feature size: v057.wav (30, 431)\n",
      "---------------- Filename and its feature size: v058.wav (30, 431)\n",
      "---------------- Filename and its feature size: v059.wav (30, 431)\n",
      "---------------- Filename and its feature size: v060.wav (30, 431)\n",
      "---------------- Filename and its feature size: v061.wav (30, 432)\n",
      "Shorten feature size to: (30, 431)\n",
      "---------------- Filename and its feature size: v062.wav (30, 431)\n",
      "---------------- Filename and its feature size: v063.wav (30, 431)\n",
      "---------------- Filename and its feature size: v064.wav (30, 431)\n",
      "---------------- Filename and its feature size: v065.wav (30, 431)\n",
      "---------------- Filename and its feature size: v066.wav (30, 431)\n",
      "---------------- Filename and its feature size: v067.wav (30, 432)\n",
      "Shorten feature size to: (30, 431)\n",
      "---------------- Filename and its feature size: v068.wav (30, 432)\n",
      "Shorten feature size to: (30, 431)\n",
      "---------------- Filename and its feature size: v069.wav (30, 431)\n",
      "---------------- Filename and its feature size: v070.wav (30, 431)\n",
      "---------------- Filename and its feature size: v071.wav (30, 431)\n",
      "---------------- Filename and its feature size: v072.wav (30, 431)\n",
      "---------------- Filename and its feature size: v073.wav (30, 431)\n",
      "---------------- Filename and its feature size: v074.wav (30, 431)\n",
      "---------------- Filename and its feature size: v075.wav (30, 431)\n",
      "---------------- Filename and its feature size: v076.wav (30, 431)\n",
      "---------------- Filename and its feature size: v077.wav (30, 432)\n",
      "Shorten feature size to: (30, 431)\n",
      "---------------- Filename and its feature size: v078.wav (30, 431)\n",
      "---------------- Filename and its feature size: v079.wav (30, 433)\n",
      "Shorten feature size to: (30, 431)\n",
      "---------------- Filename and its feature size: v080.wav (30, 431)\n",
      "---------------- Filename and its feature size: v081.wav (30, 431)\n",
      "---------------- Filename and its feature size: v082.wav (30, 431)\n",
      "---------------- Filename and its feature size: v083.wav (30, 431)\n",
      "---------------- Filename and its feature size: v084.wav (30, 431)\n",
      "---------------- Filename and its feature size: v085.wav (30, 432)\n",
      "Shorten feature size to: (30, 431)\n",
      "---------------- Filename and its feature size: v086.wav (30, 435)\n",
      "Shorten feature size to: (30, 431)\n",
      "---------------- Filename and its feature size: v087.wav (30, 431)\n",
      "---------------- Filename and its feature size: v088.wav (30, 431)\n",
      "---------------- Filename and its feature size: v089.wav (30, 431)\n",
      "---------------- Filename and its feature size: v090.wav (30, 432)\n",
      "Shorten feature size to: (30, 431)\n",
      "---------------- Filename and its feature size: v091.wav (30, 431)\n",
      "---------------- Filename and its feature size: v092.wav (30, 431)\n",
      "---------------- Filename and its feature size: v093.wav (30, 431)\n",
      "---------------- Filename and its feature size: v094.wav (30, 431)\n",
      "---------------- Filename and its feature size: v095.wav (30, 430)\n",
      "Lengthen feature size to: (30, 431)\n",
      "---------------- Filename and its feature size: v096.wav (30, 431)\n",
      "---------------- Filename and its feature size: v097.wav (30, 453)\n",
      "Shorten feature size to: (30, 431)\n",
      "---------------- Filename and its feature size: v098.wav (30, 431)\n",
      "---------------- Filename and its feature size: v099.wav (30, 431)\n",
      "---------------- Filename and its feature size: v100.wav (30, 431)\n"
     ]
    }
   ],
   "source": [
    "for file in os.listdir('.'):\n",
    "    if file.endswith(\".wav\"):\n",
    "        y, sr = librosa.load(file)\n",
    "        mfccs = librosa.feature.mfcc(y, sr=sr, n_mfcc = n_row)\n",
    "        print(\"---------------- Filename and its feature size:\", file, mfccs.shape)\n",
    "        \n",
    "        if len(mfccs[0])>n_col:\n",
    "            mfccs = mfccs[:, 0:n_col]\n",
    "            print(\"Shorten feature size to:\", mfccs.shape)\n",
    "            \n",
    "        if len(mfccs[0])<n_col:\n",
    "            t=np.zeros([n_row, n_col-len(mfccs[0])])\n",
    "            mfccs = np.hstack((mfccs, t))\n",
    "            print(\"Lengthen feature size to:\", mfccs.shape)\n",
    "            \n",
    "        features = np.vstack((features, mfccs.reshape(1,-1)))"
   ]
  },
  {
   "cell_type": "code",
   "execution_count": 8,
   "metadata": {},
   "outputs": [],
   "source": [
    "#Remove the first line\n",
    "features = features[1:, :]\n",
    "#Save the feature set to a file\n",
    "np.save(\"30features.npy\", features)"
   ]
  },
  {
   "cell_type": "code",
   "execution_count": 9,
   "metadata": {},
   "outputs": [
    {
     "data": {
      "text/plain": [
       "(200, 12930)"
      ]
     },
     "execution_count": 9,
     "metadata": {},
     "output_type": "execute_result"
    }
   ],
   "source": [
    "#features=np.load(\"features.npy\")\n",
    "features.shape"
   ]
  },
  {
   "cell_type": "code",
   "execution_count": 10,
   "metadata": {},
   "outputs": [],
   "source": [
    "labels=np.hstack((np.zeros((100,),dtype=int),np.ones((100,),dtype=int)))"
   ]
  },
  {
   "cell_type": "code",
   "execution_count": 11,
   "metadata": {},
   "outputs": [
    {
     "name": "stdout",
     "output_type": "stream",
     "text": [
      "Classes and labels: [0 1] [0 0 0 0 0 0 0 0 0 0 0 0 0 0 0 0 0 0 0 0 0 0 0 0 0 0 0 0 0 0 0 0 0 0 0 0 0\n",
      " 0 0 0 0 0 0 0 0 0 0 0 0 0 0 0 0 0 0 0 0 0 0 0 0 0 0 0 0 0 0 0 0 0 0 0 0 0\n",
      " 0 0 0 0 0 0 0 0 0 0 0 0 0 0 0 0 0 0 0 0 0 0 0 0 0 0 1 1 1 1 1 1 1 1 1 1 1\n",
      " 1 1 1 1 1 1 1 1 1 1 1 1 1 1 1 1 1 1 1 1 1 1 1 1 1 1 1 1 1 1 1 1 1 1 1 1 1\n",
      " 1 1 1 1 1 1 1 1 1 1 1 1 1 1 1 1 1 1 1 1 1 1 1 1 1 1 1 1 1 1 1 1 1 1 1 1 1\n",
      " 1 1 1 1 1 1 1 1 1 1 1 1 1 1 1]\n"
     ]
    }
   ],
   "source": [
    "print('Classes and labels:', np.unique(labels), labels)"
   ]
  },
  {
   "cell_type": "code",
   "execution_count": 82,
   "metadata": {},
   "outputs": [],
   "source": [
    "from sklearn.model_selection import train_test_split\n",
    "X_train, X_test, y_train, y_test = train_test_split(features, labels , test_size=.2, random_state=11)"
   ]
  },
  {
   "cell_type": "code",
   "execution_count": 83,
   "metadata": {},
   "outputs": [],
   "source": [
    "#Create the SVM model\n",
    "from sklearn.svm import SVC\n",
    "clf = SVC(kernel = 'rbf', C=10**2, random_state = 1)\n",
    "\n",
    "#Fit the model for the data\n",
    "clf.fit(X_train, y_train)\n",
    "\n",
    "#Make the prediction\n",
    "y_pred = clf.predict(X_test)"
   ]
  },
  {
   "cell_type": "code",
   "execution_count": 86,
   "metadata": {},
   "outputs": [
    {
     "name": "stdout",
     "output_type": "stream",
     "text": [
      "Accuracy: 0.775\n",
      "Precision: 0.63\n",
      "Recall: 0.86\n"
     ]
    }
   ],
   "source": [
    "from sklearn import metrics\n",
    "\n",
    "# Model Accuracy: \n",
    "print(\"Accuracy:\", metrics.accuracy_score(y_test, y_pred))\n",
    "# Model Precision: \n",
    "print(\"Precision: {:.2f}\".format(metrics.precision_score(y_test, y_pred)))\n",
    "# Model Recall: \n",
    "print(\"Recall: {:.2f}\".format(metrics.recall_score(y_test, y_pred)))"
   ]
  },
  {
   "cell_type": "code",
   "execution_count": 85,
   "metadata": {},
   "outputs": [
    {
     "name": "stdout",
     "output_type": "stream",
     "text": [
      "[[19  7]\n",
      " [ 2 12]]\n",
      "              precision    recall  f1-score   support\n",
      "\n",
      "           0       0.90      0.73      0.81        26\n",
      "           1       0.63      0.86      0.73        14\n",
      "\n",
      "    accuracy                           0.78        40\n",
      "   macro avg       0.77      0.79      0.77        40\n",
      "weighted avg       0.81      0.78      0.78        40\n",
      "\n"
     ]
    }
   ],
   "source": [
    "print(metrics.confusion_matrix(y_test,y_pred))\n",
    "print(metrics.classification_report(y_test,y_pred))"
   ]
  },
  {
   "cell_type": "code",
   "execution_count": 80,
   "metadata": {},
   "outputs": [
    {
     "name": "stdout",
     "output_type": "stream",
     "text": [
      "Accuracy: 77.50 %\n"
     ]
    }
   ],
   "source": [
    "from sklearn.model_selection import cross_val_score\n",
    "accuracies = cross_val_score(estimator = clf, X = X_train, y = y_train, cv = 10)\n",
    "print(\"Accuracy: {:.2f} %\".format(accuracies.mean()*100))\n",
    "#print(\"Standard Deviation: {:.2f} %\".format(accuracies.std()*100))"
   ]
  },
  {
   "cell_type": "code",
   "execution_count": 81,
   "metadata": {},
   "outputs": [
    {
     "name": "stdout",
     "output_type": "stream",
     "text": [
      "Accuracy: 0.5\n",
      "Precision: 0.5\n",
      "Recall: 1.0\n",
      "Accuracy of SVC on training set: 100.00\n",
      "Accuracy of SVC on test set: 50.00\n"
     ]
    }
   ],
   "source": [
    "clf_SVC = SVC(C=100.0, kernel='rbf', degree=3, gamma='auto', coef0=0.0, shrinking=True, \n",
    "          probability=False, tol=0.001, cache_size=200, class_weight=None, \n",
    "          verbose=0, max_iter=-1, decision_function_shape=\"ovr\", random_state = 0)\n",
    "\n",
    "clf_SVC.fit(X_train,y_train)\n",
    "#Make the prediction\n",
    "y_pred = clf_SVC.predict(X_test)\n",
    "\n",
    "# Model Accuracy: \n",
    "print(\"Accuracy:\", metrics.accuracy_score(y_test, y_pred))\n",
    "# Model Precision: \n",
    "print(\"Precision:\", metrics.precision_score(y_test, y_pred))\n",
    "# Model Recall: \n",
    "print(\"Recall:\", metrics.recall_score(y_test, y_pred))\n",
    "\n",
    "print('Accuracy of SVC on training set: {:.2f}'.format(clf_SVC.score(X_train, y_train) * 100))\n",
    "\n",
    "print('Accuracy of SVC on test set: {:.2f}'.format(clf_SVC.score(X_test, y_test) * 100))"
   ]
  },
  {
   "cell_type": "code",
   "execution_count": null,
   "metadata": {},
   "outputs": [],
   "source": []
  }
 ],
 "metadata": {
  "kernelspec": {
   "display_name": "Python 3",
   "language": "python",
   "name": "python3"
  },
  "language_info": {
   "codemirror_mode": {
    "name": "ipython",
    "version": 3
   },
   "file_extension": ".py",
   "mimetype": "text/x-python",
   "name": "python",
   "nbconvert_exporter": "python",
   "pygments_lexer": "ipython3",
   "version": "3.7.7"
  }
 },
 "nbformat": 4,
 "nbformat_minor": 4
}
